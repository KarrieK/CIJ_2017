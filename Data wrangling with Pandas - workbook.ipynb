{
 "cells": [
  {
   "cell_type": "markdown",
   "metadata": {},
   "source": [
    "# Data Wrangling with Pandas"
   ]
  },
  {
   "cell_type": "markdown",
   "metadata": {},
   "source": [
    "So you have learned how to import data, clean it up and save as a csv. Time to get our hands dirty and start digging deep"
   ]
  },
  {
   "cell_type": "markdown",
   "metadata": {},
   "source": [
    "## Starting out"
   ]
  },
  {
   "cell_type": "markdown",
   "metadata": {},
   "source": [
    "Time to load in our clean data and take a look to make sure everything is as it should be. We're going to import a couple of new libraries in this lesson so we can visualise our data"
   ]
  },
  {
   "cell_type": "code",
   "execution_count": 2,
   "metadata": {
    "collapsed": false
   },
   "outputs": [],
   "source": [
    "import pandas as pd\n",
    "import matplotlib as plt\n",
    "\n",
    "%matplotlib inline"
   ]
  },
  {
   "cell_type": "code",
   "execution_count": null,
   "metadata": {
    "collapsed": false
   },
   "outputs": [],
   "source": [
    "df = pd.read_csv('', parse_dates=['AcceptedDate'])\n",
    "df.head()"
   ]
  },
  {
   "cell_type": "markdown",
   "metadata": {},
   "source": [
    "**Ah, we seem to have saved the index column from our previous dataframe. Let's delete this**\n",
    "\n",
    "`del df['Unnamed: 0']`"
   ]
  },
  {
   "cell_type": "code",
   "execution_count": null,
   "metadata": {
    "collapsed": false
   },
   "outputs": [],
   "source": []
  },
  {
   "cell_type": "markdown",
   "metadata": {},
   "source": [
    "**Ok let's check our data and make sure we have the correct data types and it's the right shape**"
   ]
  },
  {
   "cell_type": "code",
   "execution_count": null,
   "metadata": {
    "collapsed": false
   },
   "outputs": [],
   "source": []
  },
  {
   "cell_type": "code",
   "execution_count": null,
   "metadata": {
    "collapsed": false
   },
   "outputs": [],
   "source": []
  },
  {
   "cell_type": "markdown",
   "metadata": {},
   "source": [
    "## Counts, summing and percentage shares"
   ]
  },
  {
   "cell_type": "markdown",
   "metadata": {},
   "source": [
    "**Let's see how many donations there are in total?**\n",
    "\n",
    "`df['DonorName_clean'].count()`"
   ]
  },
  {
   "cell_type": "code",
   "execution_count": null,
   "metadata": {
    "collapsed": false
   },
   "outputs": [],
   "source": []
  },
  {
   "cell_type": "markdown",
   "metadata": {},
   "source": [
    "**Ok, let's see what the total value of donations is**\n",
    "\n",
    "`df['Value'].sum()`"
   ]
  },
  {
   "cell_type": "code",
   "execution_count": null,
   "metadata": {
    "collapsed": false
   },
   "outputs": [],
   "source": []
  },
  {
   "cell_type": "markdown",
   "metadata": {},
   "source": [
    "**Ok let's grab some basic descriptive stats and see what we've got**\n",
    "\n",
    "`df.describe(include='all')`"
   ]
  },
  {
   "cell_type": "code",
   "execution_count": null,
   "metadata": {
    "collapsed": false
   },
   "outputs": [],
   "source": []
  },
  {
   "cell_type": "markdown",
   "metadata": {},
   "source": [
    "**Hmm let's see if any Donor gave more than once**\n",
    "\n",
    "`df['DonorName_clean'].value_counts()`"
   ]
  },
  {
   "cell_type": "code",
   "execution_count": null,
   "metadata": {
    "collapsed": false
   },
   "outputs": [],
   "source": []
  },
  {
   "cell_type": "markdown",
   "metadata": {},
   "source": [
    "**Which entity/indidivual recieved the most?**\n",
    "\n",
    "`df.groupby('RegulatedEntityName')['Value'].sum().sort_values(ascending=False)`"
   ]
  },
  {
   "cell_type": "code",
   "execution_count": null,
   "metadata": {
    "collapsed": false
   },
   "outputs": [],
   "source": []
  },
  {
   "cell_type": "markdown",
   "metadata": {},
   "source": [
    "**Let's see who has the largest share of the donations**\n",
    "\n",
    "`total_donations = df['Value'].sum()`\n",
    "\n",
    "`total_per_receiver = df.groupby('RegulatedEntityName')['Value'].sum().sort_values()`\n",
    "\n",
    "`percentage_share = (total_per_receiver/total_donations)*100`"
   ]
  },
  {
   "cell_type": "code",
   "execution_count": 76,
   "metadata": {
    "collapsed": true
   },
   "outputs": [],
   "source": []
  },
  {
   "cell_type": "code",
   "execution_count": 77,
   "metadata": {
    "collapsed": true
   },
   "outputs": [],
   "source": []
  },
  {
   "cell_type": "code",
   "execution_count": 78,
   "metadata": {
    "collapsed": true
   },
   "outputs": [],
   "source": []
  },
  {
   "cell_type": "markdown",
   "metadata": {},
   "source": [
    "**Ok who got the most money? .head() will give us the least so let's use .tail() to see who got the most**"
   ]
  },
  {
   "cell_type": "code",
   "execution_count": null,
   "metadata": {
    "collapsed": false
   },
   "outputs": [],
   "source": []
  },
  {
   "cell_type": "markdown",
   "metadata": {},
   "source": [
    "## Digging deeper"
   ]
  },
  {
   "cell_type": "markdown",
   "metadata": {},
   "source": [
    "**Let's see in which year the most amount of money was donated**\n",
    "\n",
    "`df.groupby('YEAR')['Value'].sum()`"
   ]
  },
  {
   "cell_type": "code",
   "execution_count": null,
   "metadata": {
    "collapsed": false,
    "scrolled": true
   },
   "outputs": [],
   "source": []
  },
  {
   "cell_type": "markdown",
   "metadata": {},
   "source": [
    "**Our data stretches from Jan 1 2015 before the 2015 election right up until April 2017. So let's investigate if more money was donated before or after Brexit. To do this we're going to create a new column with a boolean value**\n",
    "\n",
    "`df['post_brexit'] = df['AcceptedDate'] <= '23/06/2016'`"
   ]
  },
  {
   "cell_type": "code",
   "execution_count": null,
   "metadata": {
    "collapsed": true
   },
   "outputs": [],
   "source": []
  },
  {
   "cell_type": "markdown",
   "metadata": {},
   "source": [
    "**Now we're going to create a pivot table, summing the donations on whether they are before or after the brexit referendum***\n",
    "\n",
    "`brexit_graph = df.groupby('post_brexit')['Value'].sum()`"
   ]
  },
  {
   "cell_type": "code",
   "execution_count": null,
   "metadata": {
    "collapsed": true
   },
   "outputs": [],
   "source": []
  },
  {
   "cell_type": "markdown",
   "metadata": {},
   "source": [
    "**Time to plot our work**\n",
    "\n",
    "`brexit_graph.plot(kind=\"bar\")`"
   ]
  },
  {
   "cell_type": "markdown",
   "metadata": {},
   "source": [
    "**Which individual donated the most money?**\n",
    "\n",
    "`individuals = df[df['DonorStatus'] == \"individual\"]`\n",
    "\n",
    "`individuals.groupby('DonorName_clean')['Value'].sum().sort_values(ascending=False)`"
   ]
  },
  {
   "cell_type": "code",
   "execution_count": null,
   "metadata": {
    "collapsed": false
   },
   "outputs": [],
   "source": []
  },
  {
   "cell_type": "code",
   "execution_count": null,
   "metadata": {
    "collapsed": false
   },
   "outputs": [],
   "source": []
  },
  {
   "cell_type": "markdown",
   "metadata": {},
   "source": [
    "**Hmmm one of those names looks very similar to a former primeminister we all know, let's slice our data and see who he's been giving money to **\n",
    "\n",
    "`blair = df[df['DonorName_clean'] == 'Anthony Blair']`"
   ]
  },
  {
   "cell_type": "code",
   "execution_count": null,
   "metadata": {
    "collapsed": false
   },
   "outputs": [],
   "source": []
  },
  {
   "cell_type": "markdown",
   "metadata": {},
   "source": [
    "\n",
    "**Finally let's investigate which type of donor donates the most amount of money per year, to do this we're going to use a groupby again**\n",
    "\n",
    "\n",
    "``df.groupby(['DonorStatus', 'YEAR'])['Value'].sum().unstack().sort_values(2015).head(10)``"
   ]
  },
  {
   "cell_type": "code",
   "execution_count": null,
   "metadata": {
    "collapsed": false
   },
   "outputs": [],
   "source": []
  },
  {
   "cell_type": "markdown",
   "metadata": {},
   "source": [
    "**Now we need to asign our results to a value so we can plot our results**\n",
    "`most = df.groupby(['DonorStatus', 'YEAR'])['Value'].sum().unstack().sort_values(2015).head(10)`"
   ]
  },
  {
   "cell_type": "code",
   "execution_count": 101,
   "metadata": {
    "collapsed": true
   },
   "outputs": [],
   "source": []
  },
  {
   "cell_type": "markdown",
   "metadata": {},
   "source": [
    "**Finally let's plot our results**\n",
    "\n",
    "`most.plot(kind=\"bar\")`"
   ]
  },
  {
   "cell_type": "code",
   "execution_count": null,
   "metadata": {
    "collapsed": false
   },
   "outputs": [],
   "source": [
    "\n"
   ]
  },
  {
   "cell_type": "markdown",
   "metadata": {},
   "source": [
    "## Wrapping up"
   ]
  },
  {
   "cell_type": "markdown",
   "metadata": {},
   "source": [
    "**Ok that's all folks!**\n",
    "\n",
    "Today you got a small taste of what is possible with Pandas, if you want to learn more then check out some of the links below\n",
    "\n",
    "* dataquest.io - https://www.dataquest.io/blog/pandas-python-tutorial/\n",
    "* 10 minutes to pandas - http://pandas.pydata.org/pandas-docs/stable/10min.html\n",
    "* 19 essential snippets in pandas - https://jeffdelaney.me/blog/useful-snippets-in-pandas/"
   ]
  }
 ],
 "metadata": {
  "kernelspec": {
   "display_name": "Python 2",
   "language": "python",
   "name": "python2"
  },
  "language_info": {
   "codemirror_mode": {
    "name": "ipython",
    "version": 2
   },
   "file_extension": ".py",
   "mimetype": "text/x-python",
   "name": "python",
   "nbconvert_exporter": "python",
   "pygments_lexer": "ipython2",
   "version": "2.7.13"
  }
 },
 "nbformat": 4,
 "nbformat_minor": 2
}
