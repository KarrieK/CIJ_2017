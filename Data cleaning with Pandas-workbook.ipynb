{
 "cells": [
  {
   "cell_type": "markdown",
   "metadata": {},
   "source": [
    "  # Data Cleaning with Pandas #"
   ]
  },
  {
   "cell_type": "markdown",
   "metadata": {},
   "source": [
    "Welcome to your introduction to Pandas and Jupyter Notebook!"
   ]
  },
  {
   "cell_type": "markdown",
   "metadata": {},
   "source": [
    "Today we're going to learn how to read in a csv file, create a dataframe, identify different ways it may be dirty and learn some techniques for cleaning up our data set. "
   ]
  },
  {
   "cell_type": "markdown",
   "metadata": {},
   "source": [
    "karrie.anne.kehoe@gmail.com/@karriekehoe"
   ]
  },
  {
   "cell_type": "markdown",
   "metadata": {},
   "source": [
    "## Getting to grips with Jupyter Notebook and Pandas"
   ]
  },
  {
   "cell_type": "markdown",
   "metadata": {},
   "source": [
    "Jupyter Notebook is an interactive, browser based programing environment. It can be used for multiple programming languages, for writing documentation and visualising data. If you want to learn more about what Jupyter Notebook can read its documentation at http://jupyter-notebook.readthedocs.io/en/latest/notebook.html"
   ]
  },
  {
   "cell_type": "markdown",
   "metadata": {},
   "source": [
    "Pandas is a python library, designed for statistical analysis. It's very flexible, easy to use and has a range of useful built in functions. If you want to learn more about what Pandas can do, you can read its documentation at http://pandas.pydata.org/ or browse the cook book at http://pandas.pydata.org/pandas-docs/version/0.18.1/tutorials.html  "
   ]
  },
  {
   "cell_type": "markdown",
   "metadata": {},
   "source": [
    "Shortcuts:\n",
    "* `esc` - takes you into command mode\n",
    "* `a` - insert cell above\n",
    "* `b` - insert cell below\n",
    "* `shift then tab` will show you the documentation for your code\n",
    "* `shift and enter` will run your cell\n",
    "* ` d d` will delete a cell"
   ]
  },
  {
   "cell_type": "markdown",
   "metadata": {},
   "source": [
    "## Starting off"
   ]
  },
  {
   "cell_type": "markdown",
   "metadata": {},
   "source": [
    "First we need to import Pandas our python library to do so we use the line of code below. We use 'pd' as an alias to make it easier when typing in our code.\n",
    "We are going to type \n",
    "\n",
    "`import pandas as pd`"
   ]
  },
  {
   "cell_type": "code",
   "execution_count": 113,
   "metadata": {
    "collapsed": false
   },
   "outputs": [],
   "source": []
  },
  {
   "cell_type": "markdown",
   "metadata": {},
   "source": [
    "Now we create a dataframe and read in our csv.\n",
    "\n",
    "`df = pd.read_csv('filepath')`"
   ]
  },
  {
   "cell_type": "code",
   "execution_count": 114,
   "metadata": {
    "collapsed": true
   },
   "outputs": [],
   "source": []
  },
  {
   "cell_type": "markdown",
   "metadata": {},
   "source": [
    "Let's look at the first ten rows of our data\n",
    "\n",
    "`df.head(10)`"
   ]
  },
  {
   "cell_type": "code",
   "execution_count": null,
   "metadata": {
    "collapsed": false
   },
   "outputs": [],
   "source": []
  },
  {
   "cell_type": "markdown",
   "metadata": {},
   "source": [
    "Next we need to know what data types we're dealing with for each column in our dataframe\n",
    "\n",
    "`df.dtypes`"
   ]
  },
  {
   "cell_type": "code",
   "execution_count": null,
   "metadata": {
    "collapsed": false
   },
   "outputs": [],
   "source": []
  },
  {
   "cell_type": "markdown",
   "metadata": {},
   "source": [
    "We use .shape to find the dimensions of our data\n",
    "\n",
    "`df.shape`"
   ]
  },
  {
   "cell_type": "code",
   "execution_count": 117,
   "metadata": {
    "collapsed": false
   },
   "outputs": [
    {
     "data": {
      "text/plain": [
       "(9151, 27)"
      ]
     },
     "execution_count": 117,
     "metadata": {},
     "output_type": "execute_result"
    }
   ],
   "source": []
  },
  {
   "cell_type": "markdown",
   "metadata": {},
   "source": [
    "## Data Problems: \n",
    "* Dates are python objects and not a datetime object\n",
    "* Values are python objects and not ints or floats, so we can't perform any calculations on them\n",
    "* We need a year column, perhaps even a month column\n",
    "* There may be leading or strail spaces in our data"
   ]
  },
  {
   "cell_type": "markdown",
   "metadata": {},
   "source": [
    "Before we change anything we're going to create a copy of our dataframe and clean that up\n",
    "\n",
    "`df2.copy()`"
   ]
  },
  {
   "cell_type": "code",
   "execution_count": 118,
   "metadata": {
    "collapsed": true
   },
   "outputs": [],
   "source": []
  },
  {
   "cell_type": "markdown",
   "metadata": {},
   "source": [
    "## Cleaning strings\n",
    "\n",
    "We need to clean up the value column and convert it to an integer so we can count it. How do we check that it's worked?\n",
    "\n",
    "`df2['col'] = df2['col'].str.replace('£', '')`"
   ]
  },
  {
   "cell_type": "code",
   "execution_count": 119,
   "metadata": {
    "collapsed": true
   },
   "outputs": [],
   "source": []
  },
  {
   "cell_type": "markdown",
   "metadata": {},
   "source": [
    "Now check to see if that worked"
   ]
  },
  {
   "cell_type": "code",
   "execution_count": null,
   "metadata": {
    "collapsed": true
   },
   "outputs": [],
   "source": []
  },
  {
   "cell_type": "markdown",
   "metadata": {},
   "source": [
    "## Changing data types\n",
    "\n",
    "Ok, no luck. We need to explicitly change the data type for the new Value clean column.\n",
    "\n",
    "`df2['Value_clean'] = pd.to_numeric(df2['Value_clean'])`"
   ]
  },
  {
   "cell_type": "code",
   "execution_count": null,
   "metadata": {
    "collapsed": false,
    "scrolled": true
   },
   "outputs": [],
   "source": []
  },
  {
   "cell_type": "markdown",
   "metadata": {},
   "source": [
    "## Dropping and re-naming columns\n",
    "\n",
    "Let's clean up our dataframe a bit by dropping the original Value column - the 1 is the index, so we're saying it's the column with the value Value in the first row \n",
    "\n",
    "`df2 = df2.drop('Value', 1)`"
   ]
  },
  {
   "cell_type": "code",
   "execution_count": null,
   "metadata": {
    "collapsed": false
   },
   "outputs": [],
   "source": []
  },
  {
   "cell_type": "markdown",
   "metadata": {},
   "source": [
    "Now that's gone, let's rename the Value clean column\n",
    "\n",
    "`df2 = df2.rename(columns={'old_name': 'new_name'})`"
   ]
  },
  {
   "cell_type": "code",
   "execution_count": null,
   "metadata": {
    "collapsed": false
   },
   "outputs": [],
   "source": []
  },
  {
   "cell_type": "markdown",
   "metadata": {},
   "source": [
    "Let's make sure there aren't any trail or leading spaces in the column names, if so this could cause havoc\n",
    "\n",
    "`df2.columns`"
   ]
  },
  {
   "cell_type": "code",
   "execution_count": null,
   "metadata": {
    "collapsed": false
   },
   "outputs": [],
   "source": []
  },
  {
   "cell_type": "markdown",
   "metadata": {},
   "source": [
    "All good, but maybe there are some in the donor names.\n",
    "\n",
    "`df2['column'].unique()`"
   ]
  },
  {
   "cell_type": "code",
   "execution_count": null,
   "metadata": {
    "collapsed": false
   },
   "outputs": [],
   "source": []
  },
  {
   "cell_type": "markdown",
   "metadata": {},
   "source": [
    "Yup just like I thought, there is a leading space in Anthony Clarke, we need to fix that. First though we need to make sure that the DonorName is a column of strings, if there are any numeric names in there it'll confuse python and we won't be able to manipulate the column\n",
    "\n",
    "`df2['column'] = df2['column'].astype(str)`"
   ]
  },
  {
   "cell_type": "code",
   "execution_count": null,
   "metadata": {
    "collapsed": false
   },
   "outputs": [],
   "source": []
  },
  {
   "cell_type": "markdown",
   "metadata": {},
   "source": [
    "Ok now we're going to strip out any of those trail spaces\n",
    "\n",
    "`df2['column']=df2['column'].map(str.strip)`"
   ]
  },
  {
   "cell_type": "code",
   "execution_count": null,
   "metadata": {
    "collapsed": false
   },
   "outputs": [],
   "source": []
  },
  {
   "cell_type": "markdown",
   "metadata": {},
   "source": [
    "Did that work?\n",
    "\n",
    "`df2[column].unique()`"
   ]
  },
  {
   "cell_type": "code",
   "execution_count": null,
   "metadata": {
    "collapsed": false
   },
   "outputs": [],
   "source": []
  },
  {
   "cell_type": "markdown",
   "metadata": {},
   "source": [
    "## Dates and Years\n",
    "\n",
    "Ok, the reporting periods are pretty messy, so let's create a new column with the year value in there. We can extract that from one of the date columns. To do that we need to import the new library called datetime\n",
    "\n",
    "`import datetime`"
   ]
  },
  {
   "cell_type": "code",
   "execution_count": null,
   "metadata": {
    "collapsed": true
   },
   "outputs": [],
   "source": []
  },
  {
   "cell_type": "markdown",
   "metadata": {},
   "source": [
    "Now we're going to strip the year from the accepted date and insert the value in a new column called 'Year'\n",
    "\n",
    "`df2['YEAR'] = pd.DatetimeIndex(df2['AcceptedDate']).year`"
   ]
  },
  {
   "cell_type": "code",
   "execution_count": null,
   "metadata": {
    "collapsed": true
   },
   "outputs": [],
   "source": []
  },
  {
   "cell_type": "markdown",
   "metadata": {},
   "source": [
    "Did that work? If so let's try do the same for the month value, same formula as year"
   ]
  },
  {
   "cell_type": "code",
   "execution_count": null,
   "metadata": {
    "collapsed": false
   },
   "outputs": [],
   "source": []
  },
  {
   "cell_type": "markdown",
   "metadata": {},
   "source": [
    "## Shrinking dataframes\n",
    "\n",
    "Ok finally let's get rid of some of the columns and make our dataframe a more manageable size\n",
    "\n",
    "To do this we need a list of column names again\n"
   ]
  },
  {
   "cell_type": "code",
   "execution_count": null,
   "metadata": {
    "collapsed": false
   },
   "outputs": [],
   "source": []
  },
  {
   "cell_type": "markdown",
   "metadata": {},
   "source": [
    "Alright let's figure what we need and shrink the dataframe\n",
    "\n",
    "`df2 = df2[['RegulatedEntityName', 'AcceptedDate', 'DonorName_clean', 'DonorStatus', 'YEAR', 'Value', 'RegulatedEntityType', 'DonorId', 'CampaigningName']]`"
   ]
  },
  {
   "cell_type": "code",
   "execution_count": null,
   "metadata": {
    "collapsed": false
   },
   "outputs": [],
   "source": []
  },
  {
   "cell_type": "markdown",
   "metadata": {},
   "source": [
    "## Saving our data\n",
    "\n",
    "Ok finally let's save our clean for the next class\n",
    "\n",
    "`df2.to_csv('clean_data.csv', encoding='utf8'`"
   ]
  },
  {
   "cell_type": "code",
   "execution_count": null,
   "metadata": {
    "collapsed": false
   },
   "outputs": [],
   "source": []
  }
 ],
 "metadata": {
  "kernelspec": {
   "display_name": "Python 2",
   "language": "python",
   "name": "python2"
  },
  "language_info": {
   "codemirror_mode": {
    "name": "ipython",
    "version": 2
   },
   "file_extension": ".py",
   "mimetype": "text/x-python",
   "name": "python",
   "nbconvert_exporter": "python",
   "pygments_lexer": "ipython2",
   "version": "2.7.13"
  }
 },
 "nbformat": 4,
 "nbformat_minor": 2
}
