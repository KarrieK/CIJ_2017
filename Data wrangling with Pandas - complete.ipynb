{
 "cells": [
  {
   "cell_type": "markdown",
   "metadata": {},
   "source": [
    "# Data Wrangling with Pandas"
   ]
  },
  {
   "cell_type": "markdown",
   "metadata": {},
   "source": [
    "So you have learned how to import data, clean it up and save as a csv. Time to get our hands dirty and start digging deep"
   ]
  },
  {
   "cell_type": "markdown",
   "metadata": {},
   "source": [
    "## Starting out"
   ]
  },
  {
   "cell_type": "markdown",
   "metadata": {},
   "source": [
    "Time to load in our clean data and take a look to make sure everything is as it should be. We're going to import a couple of new libraries in this lesson so we can visualise our data"
   ]
  },
  {
   "cell_type": "code",
   "execution_count": 66,
   "metadata": {
    "collapsed": false
   },
   "outputs": [],
   "source": [
    "import pandas as pd\n",
    "import matplotlib as plt\n",
    "import seaborn as sns\n",
    "\n",
    "%matplotlib inline"
   ]
  },
  {
   "cell_type": "code",
   "execution_count": 67,
   "metadata": {
    "collapsed": false
   },
   "outputs": [
    {
     "data": {
      "text/html": [
       "<div>\n",
       "<table border=\"1\" class=\"dataframe\">\n",
       "  <thead>\n",
       "    <tr style=\"text-align: right;\">\n",
       "      <th></th>\n",
       "      <th>Unnamed: 0</th>\n",
       "      <th>RegulatedEntityName</th>\n",
       "      <th>AcceptedDate</th>\n",
       "      <th>DonorName_clean</th>\n",
       "      <th>DonorStatus</th>\n",
       "      <th>YEAR</th>\n",
       "      <th>Value</th>\n",
       "      <th>RegulatedEntityType</th>\n",
       "      <th>DonorId</th>\n",
       "      <th>CampaigningName</th>\n",
       "    </tr>\n",
       "  </thead>\n",
       "  <tbody>\n",
       "    <tr>\n",
       "      <th>0</th>\n",
       "      <td>0</td>\n",
       "      <td>The Rt Hon David Mundell MP</td>\n",
       "      <td>2017-01-04</td>\n",
       "      <td>Kirklee Property Company (2) Ltd</td>\n",
       "      <td>Company</td>\n",
       "      <td>2017</td>\n",
       "      <td>2500.0</td>\n",
       "      <td>Regulated Donee</td>\n",
       "      <td>74251</td>\n",
       "      <td>NaN</td>\n",
       "    </tr>\n",
       "    <tr>\n",
       "      <th>1</th>\n",
       "      <td>1</td>\n",
       "      <td>UK Independence Party (UKIP)</td>\n",
       "      <td>2017-03-31</td>\n",
       "      <td>Arromax Structures Ltd</td>\n",
       "      <td>Company</td>\n",
       "      <td>2017</td>\n",
       "      <td>2645.0</td>\n",
       "      <td>Political Party</td>\n",
       "      <td>68148</td>\n",
       "      <td>NaN</td>\n",
       "    </tr>\n",
       "    <tr>\n",
       "      <th>2</th>\n",
       "      <td>2</td>\n",
       "      <td>Liberal Democrats</td>\n",
       "      <td>2017-03-31</td>\n",
       "      <td>Rugby Lib Dem Council Group</td>\n",
       "      <td>Unincorporated Association</td>\n",
       "      <td>2017</td>\n",
       "      <td>2858.2</td>\n",
       "      <td>Political Party</td>\n",
       "      <td>43044</td>\n",
       "      <td>NaN</td>\n",
       "    </tr>\n",
       "    <tr>\n",
       "      <th>3</th>\n",
       "      <td>3</td>\n",
       "      <td>Liberal Democrats</td>\n",
       "      <td>2017-03-31</td>\n",
       "      <td>KIRLY LIMITED</td>\n",
       "      <td>Company</td>\n",
       "      <td>2017</td>\n",
       "      <td>20000.0</td>\n",
       "      <td>Political Party</td>\n",
       "      <td>77470</td>\n",
       "      <td>NaN</td>\n",
       "    </tr>\n",
       "    <tr>\n",
       "      <th>4</th>\n",
       "      <td>4</td>\n",
       "      <td>Liberal Democrats</td>\n",
       "      <td>2017-03-31</td>\n",
       "      <td>Dorset CC Lib Dem Council Group</td>\n",
       "      <td>Unincorporated Association</td>\n",
       "      <td>2017</td>\n",
       "      <td>3050.0</td>\n",
       "      <td>Political Party</td>\n",
       "      <td>50614</td>\n",
       "      <td>NaN</td>\n",
       "    </tr>\n",
       "  </tbody>\n",
       "</table>\n",
       "</div>"
      ],
      "text/plain": [
       "   Unnamed: 0           RegulatedEntityName AcceptedDate  \\\n",
       "0           0   The Rt Hon David Mundell MP   2017-01-04   \n",
       "1           1  UK Independence Party (UKIP)   2017-03-31   \n",
       "2           2             Liberal Democrats   2017-03-31   \n",
       "3           3             Liberal Democrats   2017-03-31   \n",
       "4           4             Liberal Democrats   2017-03-31   \n",
       "\n",
       "                    DonorName_clean                 DonorStatus  YEAR  \\\n",
       "0  Kirklee Property Company (2) Ltd                     Company  2017   \n",
       "1            Arromax Structures Ltd                     Company  2017   \n",
       "2       Rugby Lib Dem Council Group  Unincorporated Association  2017   \n",
       "3                     KIRLY LIMITED                     Company  2017   \n",
       "4   Dorset CC Lib Dem Council Group  Unincorporated Association  2017   \n",
       "\n",
       "     Value RegulatedEntityType  DonorId CampaigningName  \n",
       "0   2500.0     Regulated Donee    74251             NaN  \n",
       "1   2645.0     Political Party    68148             NaN  \n",
       "2   2858.2     Political Party    43044             NaN  \n",
       "3  20000.0     Political Party    77470             NaN  \n",
       "4   3050.0     Political Party    50614             NaN  "
      ]
     },
     "execution_count": 67,
     "metadata": {},
     "output_type": "execute_result"
    }
   ],
   "source": [
    "df = pd.read_csv('/Users/karrie/Desktop/DATA TRAINING/CIJ 2017/clean_data.csv', parse_dates=['AcceptedDate'])\n",
    "df.head()"
   ]
  },
  {
   "cell_type": "markdown",
   "metadata": {},
   "source": [
    "**Ah, we seem to have saved the index column from our previous dataframe. Let's delete this**\n",
    "\n",
    "`del df['Unnamed: 0']`"
   ]
  },
  {
   "cell_type": "code",
   "execution_count": 68,
   "metadata": {
    "collapsed": false
   },
   "outputs": [
    {
     "data": {
      "text/html": [
       "<div>\n",
       "<table border=\"1\" class=\"dataframe\">\n",
       "  <thead>\n",
       "    <tr style=\"text-align: right;\">\n",
       "      <th></th>\n",
       "      <th>RegulatedEntityName</th>\n",
       "      <th>AcceptedDate</th>\n",
       "      <th>DonorName_clean</th>\n",
       "      <th>DonorStatus</th>\n",
       "      <th>YEAR</th>\n",
       "      <th>Value</th>\n",
       "      <th>RegulatedEntityType</th>\n",
       "      <th>DonorId</th>\n",
       "      <th>CampaigningName</th>\n",
       "    </tr>\n",
       "  </thead>\n",
       "  <tbody>\n",
       "    <tr>\n",
       "      <th>0</th>\n",
       "      <td>The Rt Hon David Mundell MP</td>\n",
       "      <td>2017-01-04</td>\n",
       "      <td>Kirklee Property Company (2) Ltd</td>\n",
       "      <td>Company</td>\n",
       "      <td>2017</td>\n",
       "      <td>2500.0</td>\n",
       "      <td>Regulated Donee</td>\n",
       "      <td>74251</td>\n",
       "      <td>NaN</td>\n",
       "    </tr>\n",
       "    <tr>\n",
       "      <th>1</th>\n",
       "      <td>UK Independence Party (UKIP)</td>\n",
       "      <td>2017-03-31</td>\n",
       "      <td>Arromax Structures Ltd</td>\n",
       "      <td>Company</td>\n",
       "      <td>2017</td>\n",
       "      <td>2645.0</td>\n",
       "      <td>Political Party</td>\n",
       "      <td>68148</td>\n",
       "      <td>NaN</td>\n",
       "    </tr>\n",
       "    <tr>\n",
       "      <th>2</th>\n",
       "      <td>Liberal Democrats</td>\n",
       "      <td>2017-03-31</td>\n",
       "      <td>Rugby Lib Dem Council Group</td>\n",
       "      <td>Unincorporated Association</td>\n",
       "      <td>2017</td>\n",
       "      <td>2858.2</td>\n",
       "      <td>Political Party</td>\n",
       "      <td>43044</td>\n",
       "      <td>NaN</td>\n",
       "    </tr>\n",
       "    <tr>\n",
       "      <th>3</th>\n",
       "      <td>Liberal Democrats</td>\n",
       "      <td>2017-03-31</td>\n",
       "      <td>KIRLY LIMITED</td>\n",
       "      <td>Company</td>\n",
       "      <td>2017</td>\n",
       "      <td>20000.0</td>\n",
       "      <td>Political Party</td>\n",
       "      <td>77470</td>\n",
       "      <td>NaN</td>\n",
       "    </tr>\n",
       "    <tr>\n",
       "      <th>4</th>\n",
       "      <td>Liberal Democrats</td>\n",
       "      <td>2017-03-31</td>\n",
       "      <td>Dorset CC Lib Dem Council Group</td>\n",
       "      <td>Unincorporated Association</td>\n",
       "      <td>2017</td>\n",
       "      <td>3050.0</td>\n",
       "      <td>Political Party</td>\n",
       "      <td>50614</td>\n",
       "      <td>NaN</td>\n",
       "    </tr>\n",
       "  </tbody>\n",
       "</table>\n",
       "</div>"
      ],
      "text/plain": [
       "            RegulatedEntityName AcceptedDate  \\\n",
       "0   The Rt Hon David Mundell MP   2017-01-04   \n",
       "1  UK Independence Party (UKIP)   2017-03-31   \n",
       "2             Liberal Democrats   2017-03-31   \n",
       "3             Liberal Democrats   2017-03-31   \n",
       "4             Liberal Democrats   2017-03-31   \n",
       "\n",
       "                    DonorName_clean                 DonorStatus  YEAR  \\\n",
       "0  Kirklee Property Company (2) Ltd                     Company  2017   \n",
       "1            Arromax Structures Ltd                     Company  2017   \n",
       "2       Rugby Lib Dem Council Group  Unincorporated Association  2017   \n",
       "3                     KIRLY LIMITED                     Company  2017   \n",
       "4   Dorset CC Lib Dem Council Group  Unincorporated Association  2017   \n",
       "\n",
       "     Value RegulatedEntityType  DonorId CampaigningName  \n",
       "0   2500.0     Regulated Donee    74251             NaN  \n",
       "1   2645.0     Political Party    68148             NaN  \n",
       "2   2858.2     Political Party    43044             NaN  \n",
       "3  20000.0     Political Party    77470             NaN  \n",
       "4   3050.0     Political Party    50614             NaN  "
      ]
     },
     "execution_count": 68,
     "metadata": {},
     "output_type": "execute_result"
    }
   ],
   "source": [
    "del df['Unnamed: 0']\n",
    "df.head()"
   ]
  },
  {
   "cell_type": "markdown",
   "metadata": {},
   "source": [
    "**Ok let's check our data and make sure we have the correct data types and it's the right shape**"
   ]
  },
  {
   "cell_type": "code",
   "execution_count": 69,
   "metadata": {
    "collapsed": false
   },
   "outputs": [
    {
     "data": {
      "text/plain": [
       "RegulatedEntityName            object\n",
       "AcceptedDate           datetime64[ns]\n",
       "DonorName_clean                object\n",
       "DonorStatus                    object\n",
       "YEAR                          float64\n",
       "Value                         float64\n",
       "RegulatedEntityType            object\n",
       "DonorId                       float64\n",
       "CampaigningName                object\n",
       "dtype: object"
      ]
     },
     "execution_count": 69,
     "metadata": {},
     "output_type": "execute_result"
    }
   ],
   "source": [
    "df.dtypes"
   ]
  },
  {
   "cell_type": "code",
   "execution_count": 70,
   "metadata": {
    "collapsed": false
   },
   "outputs": [
    {
     "data": {
      "text/plain": [
       "(9151, 9)"
      ]
     },
     "execution_count": 70,
     "metadata": {},
     "output_type": "execute_result"
    }
   ],
   "source": [
    "df.shape"
   ]
  },
  {
   "cell_type": "markdown",
   "metadata": {},
   "source": [
    "## Counts, summing and percentage shares"
   ]
  },
  {
   "cell_type": "markdown",
   "metadata": {},
   "source": [
    "**Let's see how many donations there are in total?**\n",
    "\n",
    "`df['DonorName_clean'].count()`"
   ]
  },
  {
   "cell_type": "code",
   "execution_count": 71,
   "metadata": {
    "collapsed": false
   },
   "outputs": [
    {
     "data": {
      "text/plain": [
       "9142"
      ]
     },
     "execution_count": 71,
     "metadata": {},
     "output_type": "execute_result"
    }
   ],
   "source": [
    "df['DonorName_clean'].count()"
   ]
  },
  {
   "cell_type": "markdown",
   "metadata": {},
   "source": [
    "**Ok, let's see what the total value of donations is**\n",
    "\n",
    "`df['Value'].sum()`"
   ]
  },
  {
   "cell_type": "code",
   "execution_count": 72,
   "metadata": {
    "collapsed": false
   },
   "outputs": [
    {
     "data": {
      "text/plain": [
       "232497307.38999999"
      ]
     },
     "execution_count": 72,
     "metadata": {},
     "output_type": "execute_result"
    }
   ],
   "source": [
    "df['Value'].sum()"
   ]
  },
  {
   "cell_type": "markdown",
   "metadata": {},
   "source": [
    "**Ok let's grab some basic descriptive stats and see what we've got**\n",
    "\n",
    "`df.describe(include='all')`"
   ]
  },
  {
   "cell_type": "code",
   "execution_count": 73,
   "metadata": {
    "collapsed": false
   },
   "outputs": [
    {
     "data": {
      "text/html": [
       "<div>\n",
       "<table border=\"1\" class=\"dataframe\">\n",
       "  <thead>\n",
       "    <tr style=\"text-align: right;\">\n",
       "      <th></th>\n",
       "      <th>RegulatedEntityName</th>\n",
       "      <th>AcceptedDate</th>\n",
       "      <th>DonorName_clean</th>\n",
       "      <th>DonorStatus</th>\n",
       "      <th>YEAR</th>\n",
       "      <th>Value</th>\n",
       "      <th>RegulatedEntityType</th>\n",
       "      <th>DonorId</th>\n",
       "      <th>CampaigningName</th>\n",
       "    </tr>\n",
       "  </thead>\n",
       "  <tbody>\n",
       "    <tr>\n",
       "      <th>count</th>\n",
       "      <td>9151</td>\n",
       "      <td>8463</td>\n",
       "      <td>9142</td>\n",
       "      <td>9151</td>\n",
       "      <td>8463.000000</td>\n",
       "      <td>9151.000000</td>\n",
       "      <td>9151</td>\n",
       "      <td>9144.000000</td>\n",
       "      <td>5</td>\n",
       "    </tr>\n",
       "    <tr>\n",
       "      <th>unique</th>\n",
       "      <td>224</td>\n",
       "      <td>752</td>\n",
       "      <td>3875</td>\n",
       "      <td>12</td>\n",
       "      <td>NaN</td>\n",
       "      <td>NaN</td>\n",
       "      <td>4</td>\n",
       "      <td>NaN</td>\n",
       "      <td>3</td>\n",
       "    </tr>\n",
       "    <tr>\n",
       "      <th>top</th>\n",
       "      <td>Conservative and Unionist Party</td>\n",
       "      <td>2015-03-30 00:00:00</td>\n",
       "      <td>Communication Workers Union CWU</td>\n",
       "      <td>Individual</td>\n",
       "      <td>NaN</td>\n",
       "      <td>NaN</td>\n",
       "      <td>Political Party</td>\n",
       "      <td>NaN</td>\n",
       "      <td>The In Crowd</td>\n",
       "    </tr>\n",
       "    <tr>\n",
       "      <th>freq</th>\n",
       "      <td>3224</td>\n",
       "      <td>245</td>\n",
       "      <td>178</td>\n",
       "      <td>4981</td>\n",
       "      <td>NaN</td>\n",
       "      <td>NaN</td>\n",
       "      <td>7521</td>\n",
       "      <td>NaN</td>\n",
       "      <td>2</td>\n",
       "    </tr>\n",
       "    <tr>\n",
       "      <th>first</th>\n",
       "      <td>NaN</td>\n",
       "      <td>2015-01-01 00:00:00</td>\n",
       "      <td>NaN</td>\n",
       "      <td>NaN</td>\n",
       "      <td>NaN</td>\n",
       "      <td>NaN</td>\n",
       "      <td>NaN</td>\n",
       "      <td>NaN</td>\n",
       "      <td>NaN</td>\n",
       "    </tr>\n",
       "    <tr>\n",
       "      <th>last</th>\n",
       "      <td>NaN</td>\n",
       "      <td>2017-12-03 00:00:00</td>\n",
       "      <td>NaN</td>\n",
       "      <td>NaN</td>\n",
       "      <td>NaN</td>\n",
       "      <td>NaN</td>\n",
       "      <td>NaN</td>\n",
       "      <td>NaN</td>\n",
       "      <td>NaN</td>\n",
       "    </tr>\n",
       "    <tr>\n",
       "      <th>mean</th>\n",
       "      <td>NaN</td>\n",
       "      <td>NaN</td>\n",
       "      <td>NaN</td>\n",
       "      <td>NaN</td>\n",
       "      <td>2015.463902</td>\n",
       "      <td>25406.765096</td>\n",
       "      <td>NaN</td>\n",
       "      <td>58251.375766</td>\n",
       "      <td>NaN</td>\n",
       "    </tr>\n",
       "    <tr>\n",
       "      <th>std</th>\n",
       "      <td>NaN</td>\n",
       "      <td>NaN</td>\n",
       "      <td>NaN</td>\n",
       "      <td>NaN</td>\n",
       "      <td>0.598857</td>\n",
       "      <td>110932.662550</td>\n",
       "      <td>NaN</td>\n",
       "      <td>16063.332250</td>\n",
       "      <td>NaN</td>\n",
       "    </tr>\n",
       "    <tr>\n",
       "      <th>min</th>\n",
       "      <td>NaN</td>\n",
       "      <td>NaN</td>\n",
       "      <td>NaN</td>\n",
       "      <td>NaN</td>\n",
       "      <td>2015.000000</td>\n",
       "      <td>50.000000</td>\n",
       "      <td>NaN</td>\n",
       "      <td>3.000000</td>\n",
       "      <td>NaN</td>\n",
       "    </tr>\n",
       "    <tr>\n",
       "      <th>25%</th>\n",
       "      <td>NaN</td>\n",
       "      <td>NaN</td>\n",
       "      <td>NaN</td>\n",
       "      <td>NaN</td>\n",
       "      <td>2015.000000</td>\n",
       "      <td>2000.000000</td>\n",
       "      <td>NaN</td>\n",
       "      <td>45481.500000</td>\n",
       "      <td>NaN</td>\n",
       "    </tr>\n",
       "    <tr>\n",
       "      <th>50%</th>\n",
       "      <td>NaN</td>\n",
       "      <td>NaN</td>\n",
       "      <td>NaN</td>\n",
       "      <td>NaN</td>\n",
       "      <td>2015.000000</td>\n",
       "      <td>5000.000000</td>\n",
       "      <td>NaN</td>\n",
       "      <td>67348.500000</td>\n",
       "      <td>NaN</td>\n",
       "    </tr>\n",
       "    <tr>\n",
       "      <th>75%</th>\n",
       "      <td>NaN</td>\n",
       "      <td>NaN</td>\n",
       "      <td>NaN</td>\n",
       "      <td>NaN</td>\n",
       "      <td>2016.000000</td>\n",
       "      <td>12500.000000</td>\n",
       "      <td>NaN</td>\n",
       "      <td>72387.000000</td>\n",
       "      <td>NaN</td>\n",
       "    </tr>\n",
       "    <tr>\n",
       "      <th>max</th>\n",
       "      <td>NaN</td>\n",
       "      <td>NaN</td>\n",
       "      <td>NaN</td>\n",
       "      <td>NaN</td>\n",
       "      <td>2017.000000</td>\n",
       "      <td>3459340.000000</td>\n",
       "      <td>NaN</td>\n",
       "      <td>78128.000000</td>\n",
       "      <td>NaN</td>\n",
       "    </tr>\n",
       "  </tbody>\n",
       "</table>\n",
       "</div>"
      ],
      "text/plain": [
       "                    RegulatedEntityName         AcceptedDate  \\\n",
       "count                              9151                 8463   \n",
       "unique                              224                  752   \n",
       "top     Conservative and Unionist Party  2015-03-30 00:00:00   \n",
       "freq                               3224                  245   \n",
       "first                               NaN  2015-01-01 00:00:00   \n",
       "last                                NaN  2017-12-03 00:00:00   \n",
       "mean                                NaN                  NaN   \n",
       "std                                 NaN                  NaN   \n",
       "min                                 NaN                  NaN   \n",
       "25%                                 NaN                  NaN   \n",
       "50%                                 NaN                  NaN   \n",
       "75%                                 NaN                  NaN   \n",
       "max                                 NaN                  NaN   \n",
       "\n",
       "                        DonorName_clean DonorStatus         YEAR  \\\n",
       "count                              9142        9151  8463.000000   \n",
       "unique                             3875          12          NaN   \n",
       "top     Communication Workers Union CWU  Individual          NaN   \n",
       "freq                                178        4981          NaN   \n",
       "first                               NaN         NaN          NaN   \n",
       "last                                NaN         NaN          NaN   \n",
       "mean                                NaN         NaN  2015.463902   \n",
       "std                                 NaN         NaN     0.598857   \n",
       "min                                 NaN         NaN  2015.000000   \n",
       "25%                                 NaN         NaN  2015.000000   \n",
       "50%                                 NaN         NaN  2015.000000   \n",
       "75%                                 NaN         NaN  2016.000000   \n",
       "max                                 NaN         NaN  2017.000000   \n",
       "\n",
       "                 Value RegulatedEntityType       DonorId CampaigningName  \n",
       "count      9151.000000                9151   9144.000000               5  \n",
       "unique             NaN                   4           NaN               3  \n",
       "top                NaN     Political Party           NaN    The In Crowd  \n",
       "freq               NaN                7521           NaN               2  \n",
       "first              NaN                 NaN           NaN             NaN  \n",
       "last               NaN                 NaN           NaN             NaN  \n",
       "mean      25406.765096                 NaN  58251.375766             NaN  \n",
       "std      110932.662550                 NaN  16063.332250             NaN  \n",
       "min          50.000000                 NaN      3.000000             NaN  \n",
       "25%        2000.000000                 NaN  45481.500000             NaN  \n",
       "50%        5000.000000                 NaN  67348.500000             NaN  \n",
       "75%       12500.000000                 NaN  72387.000000             NaN  \n",
       "max     3459340.000000                 NaN  78128.000000             NaN  "
      ]
     },
     "execution_count": 73,
     "metadata": {},
     "output_type": "execute_result"
    }
   ],
   "source": [
    "df.describe(include='all')"
   ]
  },
  {
   "cell_type": "markdown",
   "metadata": {},
   "source": [
    "**Hmm let's see if any Donor gave more than once**\n",
    "\n",
    "`df['DonorName_clean'].value_counts()`"
   ]
  },
  {
   "cell_type": "code",
   "execution_count": 74,
   "metadata": {
    "collapsed": false
   },
   "outputs": [
    {
     "data": {
      "text/plain": [
       "Communication Workers Union CWU                           178\n",
       "Unite the Union                                           144\n",
       "GMB                                                       121\n",
       "UNISON                                                     96\n",
       "Co-operative Party                                         77\n",
       "Anthony Blair                                              72\n",
       "House of Commons                                           71\n",
       "Mr Paul Birch                                              69\n",
       "United & Cecil Club                                        52\n",
       "Union of Shop Distributive and Allied Workers              52\n",
       "Lord David Sainsbury                                       50\n",
       "THE JOSEPH ROWNTREE REFORM TRUST LIMITED                   50\n",
       "Union of Construction, Allied Trades and Technicians       45\n",
       "Community                                                  38\n",
       "Transport Salaried Staffs Association                      30\n",
       "Musicians Union                                            30\n",
       "Union of Shop, Distributive and Allied Workers             28\n",
       "Stalbury Trustees                                          27\n",
       "Fire Brigades Union                                        26\n",
       "Bown Properties Ltd                                        26\n",
       "Lord Philip Harris                                         25\n",
       "Ms Jean Lambert MEP                                        24\n",
       "Mr Neil Sherlock                                           24\n",
       "Hackney Labour Group                                       24\n",
       "Mr Alexander Temerko                                       23\n",
       "National Union of Rail, Maritime and Transport Workers     23\n",
       "JCB Research                                               22\n",
       "Sir Trevor Chinn                                           20\n",
       "The Association of Conservative Clubs Ltd                  20\n",
       "Mr David E D Brownlow                                      19\n",
       "                                                         ... \n",
       "John Rawson                                                 1\n",
       "Mr Arunasalam S Yogeswaran                                  1\n",
       "Bank and Clients PLC                                        1\n",
       "Mr Chjris Davies                                            1\n",
       "Mr Uday Khemka                                              1\n",
       "Mr Michael Dakin                                            1\n",
       "NSL Ltd                                                     1\n",
       "Michael Ziff                                                1\n",
       "South Derbyshire Conservative Councillors Group             1\n",
       "Lady Keswick                                                1\n",
       "Mr Paul Higgins                                             1\n",
       "RST Residential Investments Ltd                             1\n",
       "Mr Harold P Tillman                                         1\n",
       "SINCLAIR ROBERTSON & CO LIMITED                             1\n",
       "Mr Bruce Staley                                             1\n",
       "Mr Jonathan P Marland                                       1\n",
       "JB Drax Honore (UK) Ltd                                     1\n",
       "Dartford Conservative Council Group                         1\n",
       "Mr Palminder Singh                                          1\n",
       "David Soley                                                 1\n",
       "Ms Sarah Maclean                                            1\n",
       "Ms Jane Edwards                                             1\n",
       "Camden Labour Group                                         1\n",
       "Mr Philip Vince                                             1\n",
       "Mr John Jarvis                                              1\n",
       "Red Capital Limited                                         1\n",
       "Mulberry Care Ltd                                           1\n",
       "Ms Margaret B Walmsley                                      1\n",
       "David Rowntree                                              1\n",
       "Jean Megahy                                                 1\n",
       "Name: DonorName_clean, dtype: int64"
      ]
     },
     "execution_count": 74,
     "metadata": {},
     "output_type": "execute_result"
    }
   ],
   "source": [
    "df['DonorName_clean'].value_counts()"
   ]
  },
  {
   "cell_type": "markdown",
   "metadata": {},
   "source": [
    "**Which entity/indidivual recieved the most?**\n",
    "\n",
    "`df.groupby('RegulatedEntityName')['Value'].sum().sort_values(ascending=False)`"
   ]
  },
  {
   "cell_type": "code",
   "execution_count": 75,
   "metadata": {
    "collapsed": false
   },
   "outputs": [
    {
     "data": {
      "text/plain": [
       "RegulatedEntityName\n",
       "Conservative and Unionist Party         69049975.55\n",
       "Labour Party                            59185813.55\n",
       "The In Campaign Ltd                     24228109.10\n",
       "Vote Leave Limited                      19631643.00\n",
       "Liberal Democrats                       16220152.67\n",
       "Leave.EU Group Ltd                       6400599.00\n",
       "UK Independence Party (UKIP)             5481442.31\n",
       "Scottish National Party (SNP)            3995819.99\n",
       "Grassroots Out Ltd                       2611474.76\n",
       "Co-operative Party                       2138625.00\n",
       "Conservatives IN Ltd                     1798815.76\n",
       "Mr Darren Grimes                         1350630.36\n",
       "Brexit Express                           1256032.54\n",
       "Green Party                              1149822.44\n",
       "Owen Smith MP                             861905.12\n",
       "Best For Our Future Ltd                   848000.00\n",
       "Democracy Movement                        845614.52\n",
       "We Are Europe                             685000.00\n",
       "Progress Ltd                              562100.00\n",
       "Women's Equality Party                    559860.78\n",
       "European Movement of the UK Ltd           546239.00\n",
       "Global Britain Limited                    470520.89\n",
       "Scientists for EU Limited                 460000.00\n",
       "Virgin Management Limited                 420000.00\n",
       "Labour Leave Limited                      400000.00\n",
       "The Rt Hon Yvette Cooper MP               399098.31\n",
       "The Socialist Party of Great Britain      389816.05\n",
       "Conservative Middle East Council          368500.00\n",
       "The Rt Hon Andy Burnham MP                349807.36\n",
       "The Rt Hon Sadiq Khan MP                  347956.00\n",
       "                                           ...     \n",
       "Mr James Gray MP                            2500.00\n",
       "William Wragg MP                            2500.00\n",
       "Andrew Turner MP                            2500.00\n",
       "Kevin Foster MP                             2500.00\n",
       "Paul Scully MP                              2500.00\n",
       "Mr James Duddridge MP                       2500.00\n",
       "Maria Caulfield MP                          2500.00\n",
       "David Jones MP                              2500.00\n",
       "Mr Daniel Kawczynski MP                     2500.00\n",
       "James Davies MP                             2500.00\n",
       "Craig Mackinlay MP                          2500.00\n",
       "Mr Philip Davies MP                         2500.00\n",
       "Mike Wood MP                                2500.00\n",
       "Henry Smith MP                              2500.00\n",
       "Steve Bedser                                2341.64\n",
       "Rebecca Bailey                              2200.00\n",
       "Mr Jason McCartney MP                       2000.00\n",
       "Mr Michael Dugher                           2000.00\n",
       "Jeremy Peter Middleton                      2000.00\n",
       "Mark Macmillan                              2000.00\n",
       "Mr Mike Freer MP                            1841.34\n",
       "Nigel Huddleston MP                         1840.00\n",
       "Mr Damian Collins MP                        1840.00\n",
       "Mr Tim Loughton MP                          1840.00\n",
       "Andrew Bingham MP                           1840.00\n",
       "The Rt Hon Owen Paterson MP                 1713.00\n",
       "Ms Diane Abbott MP                          1651.07\n",
       "Mr David Stewart                            1620.00\n",
       "Sir Eric Pickles MP                         1500.00\n",
       "Conservative Muslim Forum                   1000.00\n",
       "Name: Value, dtype: float64"
      ]
     },
     "execution_count": 75,
     "metadata": {},
     "output_type": "execute_result"
    }
   ],
   "source": [
    "df.groupby('RegulatedEntityName')['Value'].sum().sort_values(ascending=False)"
   ]
  },
  {
   "cell_type": "markdown",
   "metadata": {},
   "source": [
    "**Let's see who has the largest share of the donations**\n",
    "\n",
    "`total_donations = df['Value'].sum()`\n",
    "`total_per_receiver = df.groupby('RegulatedEntityName')['Value'].sum().sort_values()`\n",
    "`percentage_share = (total_per_receiver/total_donations)*100`"
   ]
  },
  {
   "cell_type": "code",
   "execution_count": 76,
   "metadata": {
    "collapsed": true
   },
   "outputs": [],
   "source": [
    "total_donations = df['Value'].sum()"
   ]
  },
  {
   "cell_type": "code",
   "execution_count": 77,
   "metadata": {
    "collapsed": true
   },
   "outputs": [],
   "source": [
    "total_per_receiver = df.groupby('RegulatedEntityName')['Value'].sum().sort_values()"
   ]
  },
  {
   "cell_type": "code",
   "execution_count": 78,
   "metadata": {
    "collapsed": true
   },
   "outputs": [],
   "source": [
    "percentage_share = (total_per_receiver/total_donations)*100"
   ]
  },
  {
   "cell_type": "markdown",
   "metadata": {},
   "source": [
    "**Ok who got the most money? .head() will give us the least so let's use .tail() to see who got the most**"
   ]
  },
  {
   "cell_type": "code",
   "execution_count": 79,
   "metadata": {
    "collapsed": false
   },
   "outputs": [
    {
     "data": {
      "text/plain": [
       "RegulatedEntityName\n",
       "Liberal Democrats                   6.976491\n",
       "Vote Leave Limited                  8.443815\n",
       "The In Campaign Ltd                10.420813\n",
       "Labour Party                       25.456559\n",
       "Conservative and Unionist Party    29.699258\n",
       "Name: Value, dtype: float64"
      ]
     },
     "execution_count": 79,
     "metadata": {},
     "output_type": "execute_result"
    }
   ],
   "source": [
    "percentage_share.tail()"
   ]
  },
  {
   "cell_type": "markdown",
   "metadata": {},
   "source": [
    "## Digging deeper"
   ]
  },
  {
   "cell_type": "markdown",
   "metadata": {},
   "source": [
    "**Let's see in which year the most amount of money was donated**\n",
    "\n",
    "`df.groupby('YEAR')['Value'].sum()`"
   ]
  },
  {
   "cell_type": "code",
   "execution_count": 80,
   "metadata": {
    "collapsed": false,
    "scrolled": true
   },
   "outputs": [
    {
     "data": {
      "text/plain": [
       "YEAR\n",
       "2015    81152684.82\n",
       "2016    87205087.22\n",
       "2017    12597040.53\n",
       "Name: Value, dtype: float64"
      ]
     },
     "execution_count": 80,
     "metadata": {},
     "output_type": "execute_result"
    }
   ],
   "source": [
    "df.groupby('YEAR')['Value'].sum() "
   ]
  },
  {
   "cell_type": "markdown",
   "metadata": {},
   "source": [
    "**Our data stretches from Jan 1 2015 before the 2015 election right up until April 2017. So let's investigate if more money was donated before or after Brexit. To do this we're going to create a new column with a boolean value**\n",
    "\n",
    "`df['post_brexit'] = df['AcceptedDate'] <= '23/06/2016'`"
   ]
  },
  {
   "cell_type": "code",
   "execution_count": 104,
   "metadata": {
    "collapsed": false
   },
   "outputs": [],
   "source": [
    "df['post_brexit'] = df['AcceptedDate'] <= '23/06/2016'"
   ]
  },
  {
   "cell_type": "markdown",
   "metadata": {},
   "source": [
    "**Now we're going to create a pivot table, summing the donations on whether they are before or after the brexit referendum***\n",
    "\n",
    "`brexit_graph = df.groupby('post_brexit')['Value'].sum()`"
   ]
  },
  {
   "cell_type": "code",
   "execution_count": 105,
   "metadata": {
    "collapsed": true
   },
   "outputs": [],
   "source": [
    "brexit_graph = df.groupby('post_brexit')['Value'].sum()"
   ]
  },
  {
   "cell_type": "markdown",
   "metadata": {},
   "source": [
    "**Time to plot our work**\n",
    "\n",
    "`brexit_graph.plot(kind=\"bar\")`"
   ]
  },
  {
   "cell_type": "code",
   "execution_count": 106,
   "metadata": {
    "collapsed": false
   },
   "outputs": [
    {
     "data": {
      "text/plain": [
       "<matplotlib.axes._subplots.AxesSubplot at 0x113999350>"
      ]
     },
     "execution_count": 106,
     "metadata": {},
     "output_type": "execute_result"
    },
    {
     "data": {
      "image/png": "[encoded data removed]",
      "text/plain": [
       "<matplotlib.figure.Figure at 0x112c63ad0>"
      ]
     },
     "metadata": {},
     "output_type": "display_data"
    }
   ],
   "source": [
    "brexit_graph.plot(kind=\"bar\")"
   ]
  },
  {
   "cell_type": "markdown",
   "metadata": {},
   "source": [
    "**Which individual donated the most money?**\n",
    "\n",
    "`individuals = df[df['DonorStatus'] == \"individual\"]`\n",
    "`individuals.groupby('DonorName_clean')['Value'].sum().sort_values()`"
   ]
  },
  {
   "cell_type": "code",
   "execution_count": 22,
   "metadata": {
    "collapsed": false
   },
   "outputs": [],
   "source": [
    "individuals = df[df['DonorStatus'] == \"Individual\"]"
   ]
  },
  {
   "cell_type": "code",
   "execution_count": 23,
   "metadata": {
    "collapsed": false
   },
   "outputs": [
    {
     "data": {
      "text/plain": [
       "(4981, 9)"
      ]
     },
     "execution_count": 23,
     "metadata": {},
     "output_type": "execute_result"
    }
   ],
   "source": [
    "individuals.shape"
   ]
  },
  {
   "cell_type": "code",
   "execution_count": 27,
   "metadata": {
    "collapsed": false
   },
   "outputs": [
    {
     "data": {
      "text/plain": [
       "DonorName_clean\n",
       "Lord David Sainsbury           7016514.00\n",
       "Mr Peter Hargreaves            6400000.00\n",
       "Mr David Sainsbury             2980734.00\n",
       "David Sainsbury                2915734.00\n",
       "Jeremy Hosking                 2172532.54\n",
       "Diana Van Nievelt Price        2001000.00\n",
       "Mr John Griffin                1958750.00\n",
       "Mr Michael Davis               1729819.47\n",
       "Mark Coombs                    1500000.00\n",
       "Mr Crispin Odey                1296135.41\n",
       "Mr John C Armitage             1200000.00\n",
       "Gladys Bramall                 1200000.00\n",
       "Mr Alexander  A Fraser         1170400.00\n",
       "Mr Jeremy Hosking              1065500.00\n",
       "Mr David Harding               1050000.00\n",
       "Mr John E Gore                 1000050.00\n",
       "Terence Adams                  1000000.00\n",
       "Mr Gregory Nasmyth             1000000.00\n",
       "David Harding                  1000000.00\n",
       "Jonathan Wood                  1000000.00\n",
       "Patrick Barbour                1000000.00\n",
       "Mr Andrew Law                   974374.00\n",
       "Mr David E D Brownlow           926014.00\n",
       "Mr Ian R Taylor                 832750.00\n",
       "Mr James R Lupton               828000.00\n",
       "Peter Cruddas                   711000.00\n",
       "Michael Freeman                 696000.00\n",
       "Lord Michael D Glendonbrook     666000.00\n",
       "Lord Michael S Farmer           631622.32\n",
       "John Wheeler                    619459.00\n",
       "                                  ...    \n",
       "James Nicholson                   1000.00\n",
       "Ralph G Northumberland            1000.00\n",
       "Lady Shaida Sheikh                1000.00\n",
       "David Cantillon                   1000.00\n",
       "Mr Simon Keswick                  1000.00\n",
       "Mr Graham  Beevers                 910.00\n",
       "Sarbjit S Jhooty                   900.00\n",
       "Mr Colin Kreidewolf                842.08\n",
       "Mr Steve Walls                     800.00\n",
       "Garrett Hayes                      750.00\n",
       "Dr Reg Race                        616.80\n",
       "Jonathan Drori                     501.00\n",
       "Seamus Creedon                     500.00\n",
       "Paul Finnerty                      500.00\n",
       "ANTONY BALDRY                      500.00\n",
       "Susan Currall                      500.00\n",
       "Paul Summerville                   500.00\n",
       "Fiona Hall                         500.00\n",
       "Patrice de Camaret                 500.00\n",
       "Pat butler                         500.00\n",
       "Nicholas Baldwin                   500.00\n",
       "Neil Sherlock                      500.00\n",
       "E Shanahan                         500.00\n",
       "Francis Gugen                      500.00\n",
       "HT Jones                           500.00\n",
       "JOHN RAMSDEN                       500.00\n",
       "John Beveridge                     500.00\n",
       "John John                          500.00\n",
       "Andrew Jameson                     500.00\n",
       "A Biden                            500.00\n",
       "Name: Value, dtype: float64"
      ]
     },
     "execution_count": 27,
     "metadata": {},
     "output_type": "execute_result"
    }
   ],
   "source": [
    "individuals.groupby('DonorName_clean')['Value'].sum().sort_values(ascending=False)"
   ]
  },
  {
   "cell_type": "markdown",
   "metadata": {},
   "source": [
    "**Hmmm one of those names looks very similar to a former primeminister we all know, let's slice our data and see who he's been giving money to **\n",
    "\n",
    "`blair = df[df['DonorName_clean'] == 'Anthony Blair']`"
   ]
  },
  {
   "cell_type": "code",
   "execution_count": 16,
   "metadata": {
    "collapsed": false
   },
   "outputs": [
    {
     "data": {
      "text/html": [
       "<div>\n",
       "<table border=\"1\" class=\"dataframe\">\n",
       "  <thead>\n",
       "    <tr style=\"text-align: right;\">\n",
       "      <th></th>\n",
       "      <th>RegulatedEntityName</th>\n",
       "      <th>AcceptedDate</th>\n",
       "      <th>DonorName_clean</th>\n",
       "      <th>DonorStatus</th>\n",
       "      <th>YEAR</th>\n",
       "      <th>Value</th>\n",
       "      <th>RegulatedEntityType</th>\n",
       "      <th>DonorId</th>\n",
       "      <th>CampaigningName</th>\n",
       "    </tr>\n",
       "  </thead>\n",
       "  <tbody>\n",
       "    <tr>\n",
       "      <th>5382</th>\n",
       "      <td>Labour Party</td>\n",
       "      <td>25/05/2015</td>\n",
       "      <td>Anthony Blair</td>\n",
       "      <td>Individual</td>\n",
       "      <td>2015</td>\n",
       "      <td>1000</td>\n",
       "      <td>Political Party</td>\n",
       "      <td>67843</td>\n",
       "      <td>NaN</td>\n",
       "    </tr>\n",
       "    <tr>\n",
       "      <th>5428</th>\n",
       "      <td>Labour Party</td>\n",
       "      <td>18/05/2015</td>\n",
       "      <td>Anthony Blair</td>\n",
       "      <td>Individual</td>\n",
       "      <td>2015</td>\n",
       "      <td>1000</td>\n",
       "      <td>Political Party</td>\n",
       "      <td>67843</td>\n",
       "      <td>NaN</td>\n",
       "    </tr>\n",
       "    <tr>\n",
       "      <th>5578</th>\n",
       "      <td>Labour Party</td>\n",
       "      <td>06/05/2015</td>\n",
       "      <td>Anthony Blair</td>\n",
       "      <td>Individual</td>\n",
       "      <td>2015</td>\n",
       "      <td>1000</td>\n",
       "      <td>Political Party</td>\n",
       "      <td>67843</td>\n",
       "      <td>NaN</td>\n",
       "    </tr>\n",
       "    <tr>\n",
       "      <th>6042</th>\n",
       "      <td>Labour Party</td>\n",
       "      <td>14/04/2015</td>\n",
       "      <td>Anthony Blair</td>\n",
       "      <td>Individual</td>\n",
       "      <td>2015</td>\n",
       "      <td>2000</td>\n",
       "      <td>Political Party</td>\n",
       "      <td>67843</td>\n",
       "      <td>NaN</td>\n",
       "    </tr>\n",
       "    <tr>\n",
       "      <th>6078</th>\n",
       "      <td>Labour Party</td>\n",
       "      <td>13/04/2015</td>\n",
       "      <td>Anthony Blair</td>\n",
       "      <td>Individual</td>\n",
       "      <td>2015</td>\n",
       "      <td>1000</td>\n",
       "      <td>Political Party</td>\n",
       "      <td>67843</td>\n",
       "      <td>NaN</td>\n",
       "    </tr>\n",
       "    <tr>\n",
       "      <th>6119</th>\n",
       "      <td>Labour Party</td>\n",
       "      <td>10/04/2015</td>\n",
       "      <td>Anthony Blair</td>\n",
       "      <td>Individual</td>\n",
       "      <td>2015</td>\n",
       "      <td>1000</td>\n",
       "      <td>Political Party</td>\n",
       "      <td>67843</td>\n",
       "      <td>NaN</td>\n",
       "    </tr>\n",
       "    <tr>\n",
       "      <th>6142</th>\n",
       "      <td>Labour Party</td>\n",
       "      <td>09/04/2015</td>\n",
       "      <td>Anthony Blair</td>\n",
       "      <td>Individual</td>\n",
       "      <td>2015</td>\n",
       "      <td>1000</td>\n",
       "      <td>Political Party</td>\n",
       "      <td>67843</td>\n",
       "      <td>NaN</td>\n",
       "    </tr>\n",
       "    <tr>\n",
       "      <th>6143</th>\n",
       "      <td>Labour Party</td>\n",
       "      <td>09/04/2015</td>\n",
       "      <td>Anthony Blair</td>\n",
       "      <td>Individual</td>\n",
       "      <td>2015</td>\n",
       "      <td>1000</td>\n",
       "      <td>Political Party</td>\n",
       "      <td>67843</td>\n",
       "      <td>NaN</td>\n",
       "    </tr>\n",
       "    <tr>\n",
       "      <th>6250</th>\n",
       "      <td>Labour Party</td>\n",
       "      <td>03/04/2015</td>\n",
       "      <td>Anthony Blair</td>\n",
       "      <td>Individual</td>\n",
       "      <td>2015</td>\n",
       "      <td>1000</td>\n",
       "      <td>Political Party</td>\n",
       "      <td>67843</td>\n",
       "      <td>NaN</td>\n",
       "    </tr>\n",
       "    <tr>\n",
       "      <th>6270</th>\n",
       "      <td>Labour Party</td>\n",
       "      <td>02/04/2015</td>\n",
       "      <td>Anthony Blair</td>\n",
       "      <td>Individual</td>\n",
       "      <td>2015</td>\n",
       "      <td>1000</td>\n",
       "      <td>Political Party</td>\n",
       "      <td>67843</td>\n",
       "      <td>NaN</td>\n",
       "    </tr>\n",
       "    <tr>\n",
       "      <th>6349</th>\n",
       "      <td>Labour Party</td>\n",
       "      <td>01/04/2015</td>\n",
       "      <td>Anthony Blair</td>\n",
       "      <td>Individual</td>\n",
       "      <td>2015</td>\n",
       "      <td>1000</td>\n",
       "      <td>Political Party</td>\n",
       "      <td>67843</td>\n",
       "      <td>NaN</td>\n",
       "    </tr>\n",
       "    <tr>\n",
       "      <th>6378</th>\n",
       "      <td>Labour Party</td>\n",
       "      <td>31/03/2015</td>\n",
       "      <td>Anthony Blair</td>\n",
       "      <td>Individual</td>\n",
       "      <td>2015</td>\n",
       "      <td>1000</td>\n",
       "      <td>Political Party</td>\n",
       "      <td>67843</td>\n",
       "      <td>NaN</td>\n",
       "    </tr>\n",
       "    <tr>\n",
       "      <th>6389</th>\n",
       "      <td>Labour Party</td>\n",
       "      <td>31/03/2015</td>\n",
       "      <td>Anthony Blair</td>\n",
       "      <td>Individual</td>\n",
       "      <td>2015</td>\n",
       "      <td>1000</td>\n",
       "      <td>Political Party</td>\n",
       "      <td>67843</td>\n",
       "      <td>NaN</td>\n",
       "    </tr>\n",
       "    <tr>\n",
       "      <th>6423</th>\n",
       "      <td>Labour Party</td>\n",
       "      <td>31/03/2015</td>\n",
       "      <td>Anthony Blair</td>\n",
       "      <td>Individual</td>\n",
       "      <td>2015</td>\n",
       "      <td>4000</td>\n",
       "      <td>Political Party</td>\n",
       "      <td>67843</td>\n",
       "      <td>NaN</td>\n",
       "    </tr>\n",
       "    <tr>\n",
       "      <th>6424</th>\n",
       "      <td>Labour Party</td>\n",
       "      <td>31/03/2015</td>\n",
       "      <td>Anthony Blair</td>\n",
       "      <td>Individual</td>\n",
       "      <td>2015</td>\n",
       "      <td>1000</td>\n",
       "      <td>Political Party</td>\n",
       "      <td>67843</td>\n",
       "      <td>NaN</td>\n",
       "    </tr>\n",
       "    <tr>\n",
       "      <th>6486</th>\n",
       "      <td>Labour Party</td>\n",
       "      <td>30/03/2015</td>\n",
       "      <td>Anthony Blair</td>\n",
       "      <td>Individual</td>\n",
       "      <td>2015</td>\n",
       "      <td>1000</td>\n",
       "      <td>Political Party</td>\n",
       "      <td>67843</td>\n",
       "      <td>NaN</td>\n",
       "    </tr>\n",
       "    <tr>\n",
       "      <th>6487</th>\n",
       "      <td>Labour Party</td>\n",
       "      <td>30/03/2015</td>\n",
       "      <td>Anthony Blair</td>\n",
       "      <td>Individual</td>\n",
       "      <td>2015</td>\n",
       "      <td>1000</td>\n",
       "      <td>Political Party</td>\n",
       "      <td>67843</td>\n",
       "      <td>NaN</td>\n",
       "    </tr>\n",
       "    <tr>\n",
       "      <th>6683</th>\n",
       "      <td>Labour Party</td>\n",
       "      <td>30/03/2015</td>\n",
       "      <td>Anthony Blair</td>\n",
       "      <td>Individual</td>\n",
       "      <td>2015</td>\n",
       "      <td>1000</td>\n",
       "      <td>Political Party</td>\n",
       "      <td>67843</td>\n",
       "      <td>NaN</td>\n",
       "    </tr>\n",
       "    <tr>\n",
       "      <th>6684</th>\n",
       "      <td>Labour Party</td>\n",
       "      <td>30/03/2015</td>\n",
       "      <td>Anthony Blair</td>\n",
       "      <td>Individual</td>\n",
       "      <td>2015</td>\n",
       "      <td>1000</td>\n",
       "      <td>Political Party</td>\n",
       "      <td>67843</td>\n",
       "      <td>NaN</td>\n",
       "    </tr>\n",
       "    <tr>\n",
       "      <th>6765</th>\n",
       "      <td>Labour Party</td>\n",
       "      <td>26/03/2015</td>\n",
       "      <td>Anthony Blair</td>\n",
       "      <td>Individual</td>\n",
       "      <td>2015</td>\n",
       "      <td>1000</td>\n",
       "      <td>Political Party</td>\n",
       "      <td>67843</td>\n",
       "      <td>NaN</td>\n",
       "    </tr>\n",
       "    <tr>\n",
       "      <th>6776</th>\n",
       "      <td>Labour Party</td>\n",
       "      <td>26/03/2015</td>\n",
       "      <td>Anthony Blair</td>\n",
       "      <td>Individual</td>\n",
       "      <td>2015</td>\n",
       "      <td>1000</td>\n",
       "      <td>Political Party</td>\n",
       "      <td>67843</td>\n",
       "      <td>NaN</td>\n",
       "    </tr>\n",
       "    <tr>\n",
       "      <th>6804</th>\n",
       "      <td>Labour Party</td>\n",
       "      <td>25/03/2015</td>\n",
       "      <td>Anthony Blair</td>\n",
       "      <td>Individual</td>\n",
       "      <td>2015</td>\n",
       "      <td>1000</td>\n",
       "      <td>Political Party</td>\n",
       "      <td>67843</td>\n",
       "      <td>NaN</td>\n",
       "    </tr>\n",
       "    <tr>\n",
       "      <th>6857</th>\n",
       "      <td>Labour Party</td>\n",
       "      <td>24/03/2015</td>\n",
       "      <td>Anthony Blair</td>\n",
       "      <td>Individual</td>\n",
       "      <td>2015</td>\n",
       "      <td>1000</td>\n",
       "      <td>Political Party</td>\n",
       "      <td>67843</td>\n",
       "      <td>NaN</td>\n",
       "    </tr>\n",
       "    <tr>\n",
       "      <th>6870</th>\n",
       "      <td>Labour Party</td>\n",
       "      <td>24/03/2015</td>\n",
       "      <td>Anthony Blair</td>\n",
       "      <td>Individual</td>\n",
       "      <td>2015</td>\n",
       "      <td>1000</td>\n",
       "      <td>Political Party</td>\n",
       "      <td>67843</td>\n",
       "      <td>NaN</td>\n",
       "    </tr>\n",
       "    <tr>\n",
       "      <th>6877</th>\n",
       "      <td>Labour Party</td>\n",
       "      <td>23/03/2015</td>\n",
       "      <td>Anthony Blair</td>\n",
       "      <td>Individual</td>\n",
       "      <td>2015</td>\n",
       "      <td>1000</td>\n",
       "      <td>Political Party</td>\n",
       "      <td>67843</td>\n",
       "      <td>NaN</td>\n",
       "    </tr>\n",
       "    <tr>\n",
       "      <th>6881</th>\n",
       "      <td>Labour Party</td>\n",
       "      <td>23/03/2015</td>\n",
       "      <td>Anthony Blair</td>\n",
       "      <td>Individual</td>\n",
       "      <td>2015</td>\n",
       "      <td>1000</td>\n",
       "      <td>Political Party</td>\n",
       "      <td>67843</td>\n",
       "      <td>NaN</td>\n",
       "    </tr>\n",
       "    <tr>\n",
       "      <th>6896</th>\n",
       "      <td>Labour Party</td>\n",
       "      <td>23/03/2015</td>\n",
       "      <td>Anthony Blair</td>\n",
       "      <td>Individual</td>\n",
       "      <td>2015</td>\n",
       "      <td>1000</td>\n",
       "      <td>Political Party</td>\n",
       "      <td>67843</td>\n",
       "      <td>NaN</td>\n",
       "    </tr>\n",
       "    <tr>\n",
       "      <th>6901</th>\n",
       "      <td>Labour Party</td>\n",
       "      <td>23/03/2015</td>\n",
       "      <td>Anthony Blair</td>\n",
       "      <td>Individual</td>\n",
       "      <td>2015</td>\n",
       "      <td>1000</td>\n",
       "      <td>Political Party</td>\n",
       "      <td>67843</td>\n",
       "      <td>NaN</td>\n",
       "    </tr>\n",
       "    <tr>\n",
       "      <th>6918</th>\n",
       "      <td>Labour Party</td>\n",
       "      <td>22/03/2015</td>\n",
       "      <td>Anthony Blair</td>\n",
       "      <td>Individual</td>\n",
       "      <td>2015</td>\n",
       "      <td>1000</td>\n",
       "      <td>Political Party</td>\n",
       "      <td>67843</td>\n",
       "      <td>NaN</td>\n",
       "    </tr>\n",
       "    <tr>\n",
       "      <th>6922</th>\n",
       "      <td>Labour Party</td>\n",
       "      <td>21/03/2015</td>\n",
       "      <td>Anthony Blair</td>\n",
       "      <td>Individual</td>\n",
       "      <td>2015</td>\n",
       "      <td>1000</td>\n",
       "      <td>Political Party</td>\n",
       "      <td>67843</td>\n",
       "      <td>NaN</td>\n",
       "    </tr>\n",
       "  </tbody>\n",
       "</table>\n",
       "</div>"
      ],
      "text/plain": [
       "     RegulatedEntityName AcceptedDate DonorName_clean DonorStatus  YEAR  \\\n",
       "5382        Labour Party   25/05/2015   Anthony Blair  Individual  2015   \n",
       "5428        Labour Party   18/05/2015   Anthony Blair  Individual  2015   \n",
       "5578        Labour Party   06/05/2015   Anthony Blair  Individual  2015   \n",
       "6042        Labour Party   14/04/2015   Anthony Blair  Individual  2015   \n",
       "6078        Labour Party   13/04/2015   Anthony Blair  Individual  2015   \n",
       "6119        Labour Party   10/04/2015   Anthony Blair  Individual  2015   \n",
       "6142        Labour Party   09/04/2015   Anthony Blair  Individual  2015   \n",
       "6143        Labour Party   09/04/2015   Anthony Blair  Individual  2015   \n",
       "6250        Labour Party   03/04/2015   Anthony Blair  Individual  2015   \n",
       "6270        Labour Party   02/04/2015   Anthony Blair  Individual  2015   \n",
       "6349        Labour Party   01/04/2015   Anthony Blair  Individual  2015   \n",
       "6378        Labour Party   31/03/2015   Anthony Blair  Individual  2015   \n",
       "6389        Labour Party   31/03/2015   Anthony Blair  Individual  2015   \n",
       "6423        Labour Party   31/03/2015   Anthony Blair  Individual  2015   \n",
       "6424        Labour Party   31/03/2015   Anthony Blair  Individual  2015   \n",
       "6486        Labour Party   30/03/2015   Anthony Blair  Individual  2015   \n",
       "6487        Labour Party   30/03/2015   Anthony Blair  Individual  2015   \n",
       "6683        Labour Party   30/03/2015   Anthony Blair  Individual  2015   \n",
       "6684        Labour Party   30/03/2015   Anthony Blair  Individual  2015   \n",
       "6765        Labour Party   26/03/2015   Anthony Blair  Individual  2015   \n",
       "6776        Labour Party   26/03/2015   Anthony Blair  Individual  2015   \n",
       "6804        Labour Party   25/03/2015   Anthony Blair  Individual  2015   \n",
       "6857        Labour Party   24/03/2015   Anthony Blair  Individual  2015   \n",
       "6870        Labour Party   24/03/2015   Anthony Blair  Individual  2015   \n",
       "6877        Labour Party   23/03/2015   Anthony Blair  Individual  2015   \n",
       "6881        Labour Party   23/03/2015   Anthony Blair  Individual  2015   \n",
       "6896        Labour Party   23/03/2015   Anthony Blair  Individual  2015   \n",
       "6901        Labour Party   23/03/2015   Anthony Blair  Individual  2015   \n",
       "6918        Labour Party   22/03/2015   Anthony Blair  Individual  2015   \n",
       "6922        Labour Party   21/03/2015   Anthony Blair  Individual  2015   \n",
       "\n",
       "      Value RegulatedEntityType  DonorId CampaigningName  \n",
       "5382   1000     Political Party    67843             NaN  \n",
       "5428   1000     Political Party    67843             NaN  \n",
       "5578   1000     Political Party    67843             NaN  \n",
       "6042   2000     Political Party    67843             NaN  \n",
       "6078   1000     Political Party    67843             NaN  \n",
       "6119   1000     Political Party    67843             NaN  \n",
       "6142   1000     Political Party    67843             NaN  \n",
       "6143   1000     Political Party    67843             NaN  \n",
       "6250   1000     Political Party    67843             NaN  \n",
       "6270   1000     Political Party    67843             NaN  \n",
       "6349   1000     Political Party    67843             NaN  \n",
       "6378   1000     Political Party    67843             NaN  \n",
       "6389   1000     Political Party    67843             NaN  \n",
       "6423   4000     Political Party    67843             NaN  \n",
       "6424   1000     Political Party    67843             NaN  \n",
       "6486   1000     Political Party    67843             NaN  \n",
       "6487   1000     Political Party    67843             NaN  \n",
       "6683   1000     Political Party    67843             NaN  \n",
       "6684   1000     Political Party    67843             NaN  \n",
       "6765   1000     Political Party    67843             NaN  \n",
       "6776   1000     Political Party    67843             NaN  \n",
       "6804   1000     Political Party    67843             NaN  \n",
       "6857   1000     Political Party    67843             NaN  \n",
       "6870   1000     Political Party    67843             NaN  \n",
       "6877   1000     Political Party    67843             NaN  \n",
       "6881   1000     Political Party    67843             NaN  \n",
       "6896   1000     Political Party    67843             NaN  \n",
       "6901   1000     Political Party    67843             NaN  \n",
       "6918   1000     Political Party    67843             NaN  \n",
       "6922   1000     Political Party    67843             NaN  "
      ]
     },
     "execution_count": 16,
     "metadata": {},
     "output_type": "execute_result"
    }
   ],
   "source": [
    "blair = df[df['DonorName_clean'] == 'Anthony Blair']\n",
    "blair.head(30)"
   ]
  },
  {
   "cell_type": "markdown",
   "metadata": {},
   "source": []
  },
  {
   "cell_type": "code",
   "execution_count": 100,
   "metadata": {
    "collapsed": false
   },
   "outputs": [
    {
     "data": {
      "text/html": [
       "<div>\n",
       "<table border=\"1\" class=\"dataframe\">\n",
       "  <thead>\n",
       "    <tr style=\"text-align: right;\">\n",
       "      <th>YEAR</th>\n",
       "      <th>2015.0</th>\n",
       "      <th>2016.0</th>\n",
       "      <th>2017.0</th>\n",
       "    </tr>\n",
       "    <tr>\n",
       "      <th>DonorStatus</th>\n",
       "      <th></th>\n",
       "      <th></th>\n",
       "      <th></th>\n",
       "    </tr>\n",
       "  </thead>\n",
       "  <tbody>\n",
       "    <tr>\n",
       "      <th>Registered Political Party</th>\n",
       "      <td>151892.00</td>\n",
       "      <td>46841.00</td>\n",
       "      <td>5000.00</td>\n",
       "    </tr>\n",
       "    <tr>\n",
       "      <th>Other</th>\n",
       "      <td>164799.00</td>\n",
       "      <td>887115.18</td>\n",
       "      <td>48840.00</td>\n",
       "    </tr>\n",
       "    <tr>\n",
       "      <th>Trust</th>\n",
       "      <td>202273.11</td>\n",
       "      <td>45721.90</td>\n",
       "      <td>39953.14</td>\n",
       "    </tr>\n",
       "    <tr>\n",
       "      <th>Limited Liability Partnership</th>\n",
       "      <td>373446.44</td>\n",
       "      <td>490136.48</td>\n",
       "      <td>63372.00</td>\n",
       "    </tr>\n",
       "    <tr>\n",
       "      <th>Friendly Society</th>\n",
       "      <td>930388.00</td>\n",
       "      <td>905252.00</td>\n",
       "      <td>322800.00</td>\n",
       "    </tr>\n",
       "    <tr>\n",
       "      <th>Unincorporated Association</th>\n",
       "      <td>2945002.39</td>\n",
       "      <td>2752963.74</td>\n",
       "      <td>485066.51</td>\n",
       "    </tr>\n",
       "    <tr>\n",
       "      <th>Public Fund</th>\n",
       "      <td>9754241.44</td>\n",
       "      <td>11481026.31</td>\n",
       "      <td>2712926.83</td>\n",
       "    </tr>\n",
       "    <tr>\n",
       "      <th>Company</th>\n",
       "      <td>15608416.27</td>\n",
       "      <td>15049082.09</td>\n",
       "      <td>2670170.75</td>\n",
       "    </tr>\n",
       "    <tr>\n",
       "      <th>Trade Union</th>\n",
       "      <td>15667954.23</td>\n",
       "      <td>9509088.80</td>\n",
       "      <td>1964500.69</td>\n",
       "    </tr>\n",
       "    <tr>\n",
       "      <th>Individual</th>\n",
       "      <td>35354271.94</td>\n",
       "      <td>46037859.72</td>\n",
       "      <td>4284410.61</td>\n",
       "    </tr>\n",
       "  </tbody>\n",
       "</table>\n",
       "</div>"
      ],
      "text/plain": [
       "YEAR                                  2015         2016        2017\n",
       "DonorStatus                                                        \n",
       "Registered Political Party       151892.00     46841.00     5000.00\n",
       "Other                            164799.00    887115.18    48840.00\n",
       "Trust                            202273.11     45721.90    39953.14\n",
       "Limited Liability Partnership    373446.44    490136.48    63372.00\n",
       "Friendly Society                 930388.00    905252.00   322800.00\n",
       "Unincorporated Association      2945002.39   2752963.74   485066.51\n",
       "Public Fund                     9754241.44  11481026.31  2712926.83\n",
       "Company                        15608416.27  15049082.09  2670170.75\n",
       "Trade Union                    15667954.23   9509088.80  1964500.69\n",
       "Individual                     35354271.94  46037859.72  4284410.61"
      ]
     },
     "execution_count": 100,
     "metadata": {},
     "output_type": "execute_result"
    }
   ],
   "source": [
    "df.groupby(['DonorStatus', 'YEAR'])['Value'].sum().unstack().sort_values(2015).head(10)"
   ]
  },
  {
   "cell_type": "code",
   "execution_count": 101,
   "metadata": {
    "collapsed": true
   },
   "outputs": [],
   "source": [
    "most = df.groupby(['DonorStatus', 'YEAR'])['Value'].sum().unstack().sort_values(2015).head(10)"
   ]
  },
  {
   "cell_type": "code",
   "execution_count": 102,
   "metadata": {
    "collapsed": false
   },
   "outputs": [
    {
     "data": {
      "text/plain": [
       "<matplotlib.axes._subplots.AxesSubplot at 0x111c76510>"
      ]
     },
     "execution_count": 102,
     "metadata": {},
     "output_type": "execute_result"
    },
    {
     "data": {
      "image/png": "[encoded data removed]",
      "text/plain": [
       "<matplotlib.figure.Figure at 0x11197cb90>"
      ]
     },
     "metadata": {},
     "output_type": "display_data"
    }
   ],
   "source": [
    "most.plot(kind=\"bar\")\n"
   ]
  },
  {
   "cell_type": "markdown",
   "metadata": {},
   "source": [
    "## Wrapping up"
   ]
  },
  {
   "cell_type": "markdown",
   "metadata": {},
   "source": [
    "**Ok that's all folks!**\n",
    "\n",
    "Today you got a small taste of what is possible with Pandas, if you want to learn more then check out some of the links below\n",
    "\n",
    "* dataquest.io - https://www.dataquest.io/blog/pandas-python-tutorial/\n",
    "* 10 minutes to pandas - http://pandas.pydata.org/pandas-docs/stable/10min.html\n",
    "* 19 essential snippets in pandas - https://jeffdelaney.me/blog/useful-snippets-in-pandas/"
   ]
  }
 ],
 "metadata": {
  "kernelspec": {
   "display_name": "Python 2",
   "language": "python",
   "name": "python2"
  },
  "language_info": {
   "codemirror_mode": {
    "name": "ipython",
    "version": 2
   },
   "file_extension": ".py",
   "mimetype": "text/x-python",
   "name": "python",
   "nbconvert_exporter": "python",
   "pygments_lexer": "ipython2",
   "version": "2.7.13"
  }
 },
 "nbformat": 4,
 "nbformat_minor": 2
}
